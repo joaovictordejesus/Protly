{
 "cells": [
  {
   "cell_type": "markdown",
   "metadata": {},
   "source": [
    "> Projeto Desenvolve <br>\n",
    "Programação Intermediária com Python <br>\n",
    "Profa. Camila Laranjeira (mila@projetodesenvolve.com.br) <br>\n",
    "\n",
    "# 3.9 - Visualização de Dados"
   ]
  },
  {
   "cell_type": "markdown",
   "metadata": {
    "vscode": {
     "languageId": "plaintext"
    }
   },
   "source": [
    "## Exercícios\n",
    "Vamos trabalhar com as mesmas bases de dados do exercício de Pandas. Aqui estão os links caso você queira baixar novamente, mas recomendo trabalhar com o `wc_formatado.csv` que exportamos na questão Q2 do exercício anterior.\n",
    "\n",
    "* https://raw.githubusercontent.com/camilalaranjeira/python-intermediario/main/fifa-wc/matches_1930_2022.csv\n",
    "* https://raw.githubusercontent.com/camilalaranjeira/python-intermediario/main/fifa-wc/matches_1991_2023.csv\n",
    "\n",
    "Para relembrar, essas são as colunas do dataframe:\n",
    "```\n",
    "Data columns (total 21 columns):\n",
    " #   Column             Non-Null Count  Dtype         \n",
    "---  ------             --------------  -----         \n",
    " 0   time_1             1312 non-null   string        \n",
    " 1   time_2             1312 non-null   string        \n",
    " 2   gols_1             1312 non-null   int64         \n",
    " 3   gols_2             1312 non-null   int64         \n",
    " 4   data               1312 non-null   datetime64[ns]\n",
    " 5   ano                1312 non-null   int64         \n",
    " 6   país_sede          1312 non-null   string        \n",
    " 7   comparecimento     1312 non-null   int64         \n",
    " 8   resultado          1312 non-null   string        \n",
    " 9   rodada             1312 non-null   category      \n",
    " 10  gols_1_detalhes    970 non-null    string        \n",
    " 11  gols_2_detalhes    771 non-null    string        \n",
    " 12  gols_1_contra      57 non-null     string        \n",
    " 13  gols_2_contra      30 non-null     string        \n",
    " 14  gols_1_penalti     170 non-null    string        \n",
    " 15  gols_2_penalti     119 non-null    string        \n",
    " 16  cartao_vermelho_1  59 non-null     string        \n",
    " 17  cartao_vermelho_2  65 non-null     string        \n",
    " 18  cartao_amarelo_1   834 non-null    string        \n",
    " 19  cartao_amarelo_2   857 non-null    string        \n",
    " 20  copa               1312 non-null   string \n",
    "```"
   ]
  },
  {
   "cell_type": "markdown",
   "metadata": {},
   "source": [
    "#### Q1.\n",
    "Realize todos os imports necessários para executar as três bibliotecas de visualização que conhecemos:\n",
    "* Matplotlib (lembre-se do comando mágico)\n",
    "* Seaborn\n",
    "* Plotly\n",
    "\n",
    "Para cada uma delas, altere o tema padrão de visualização. "
   ]
  },
  {
   "cell_type": "code",
   "execution_count": null,
   "metadata": {
    "vscode": {
     "languageId": "plaintext"
    }
   },
   "outputs": [],
   "source": [
    "import pandas as pd\n",
    "import numpy as np\n",
    "import matplotlib.pyplot as plt\n",
    "import seaborn as sns\n",
    "import plotly.express as px"
   ]
  },
  {
   "cell_type": "markdown",
   "metadata": {
    "vscode": {
     "languageId": "plaintext"
    }
   },
   "source": [
    "#### Q2.\n",
    "Sobre os dados de copa do mundo, qual a distribuição de público presente nos jogos? Isso pode ser respondido com um histograma com os dados da coluna `comparecimento`.  \n",
    "\n",
    "Lembre-se que alguns jogos estavam com público 0 incorretamente, que tal remover essas ocorrências para não atrapalhar sua visualzação?\n",
    "\n",
    "Você deve implementar essa visualização nas três bibliotecas que vimos:\n",
    "* Matplotlib\n",
    "* Seaborn\n",
    "* Plotly\n",
    "\n",
    "Garanta que o gráfico tenha pelo menos os atributos de título e rótulos de dimensão."
   ]
  },
  {
   "cell_type": "code",
   "execution_count": null,
   "metadata": {
    "vscode": {
     "languageId": "plaintext"
    }
   },
   "outputs": [],
   "source": [
    "#João Victor de Jesus Augusto\n",
    "plt.hist(wc['comparecimento'], bins=20)\n",
    "plt.title('Distribuição de Público por Jogo')\n",
    "plt.xlabel('Público')\n",
    "plt.ylabel('Frequência')\n",
    "plt.show()"
   ]
  },
  {
   "cell_type": "code",
   "execution_count": null,
   "metadata": {
    "vscode": {
     "languageId": "plaintext"
    }
   },
   "outputs": [],
   "source": [
    "#João Victor de Jesus Augusto \n",
    "sns.histplot(data=wc, x='comparecimento', bins=20)\n",
    "plt.title('Distribuição de Público por Jogo')\n",
    "plt.xlabel('Público')\n",
    "plt.ylabel('Frequência')\n",
    "plt.show()"
   ]
  },
  {
   "cell_type": "code",
   "execution_count": null,
   "metadata": {
    "vscode": {
     "languageId": "plaintext"
    }
   },
   "outputs": [],
   "source": [
    "# João Victor de Jesus Augusto\n",
    "fig = px.histogram(wc, x='comparecimento', nbins=20, title='Distribuição de Público por Jogo')\n",
    "fig.show()"
   ]
  },
  {
   "cell_type": "markdown",
   "metadata": {},
   "source": [
    "#### Q3.\n",
    "\n",
    "Apresente um gráfico de dispersão (scatter) dos atributos `gols_1` e `gols_2`. Isso representa a relação entre gols feitos e gols tomados por jogo. Há alguma relação interessante entre esses atributos?\n",
    "\n",
    "Para facilitar a visualização dos dados (já que tem muitos placares repetidos), aplique uma leve distorção aos dados para que cada ponto esteja deslocado aleatoriamente de seu valor original. Código apresentado a seguir\n",
    "```python\n",
    "gols = wc[['gols_1', 'gols_2']] * np.random.random((len(wc),2))\n",
    "```\n",
    "\n",
    "Você deve implementar essa visualização nas três bibliotecas que vimos:\n",
    "* Matplotlib\n",
    "* Seaborn\n",
    "* Plotly\n",
    "\n",
    "Garanta que o gráfico tenha pelo menos os atributos de título e rótulos de dimensão."
   ]
  },
  {
   "cell_type": "code",
   "execution_count": null,
   "metadata": {
    "vscode": {
     "languageId": "plaintext"
    }
   },
   "outputs": [],
   "source": [
    "# Matplotlib\n",
    "plt.scatter(gols['gols_1'], gols['gols_2'])\n",
    "plt.xlabel('Gols Marcados')\n",
    "plt.ylabel('Gols Sofridos')\n",
    "plt.title('Relação entre Gols Marcados e Sofridos')\n",
    "plt.show()"
   ]
  },
  {
   "cell_type": "code",
   "execution_count": null,
   "metadata": {
    "vscode": {
     "languageId": "plaintext"
    }
   },
   "outputs": [],
   "source": [
    "# Seaborn\n",
    "sns.scatterplot(data=gols, x='gols_1', y='gols_2')\n",
    "plt.xlabel('Gols Marcados')\n",
    "plt.ylabel('Gols Sofridos')\n",
    "plt.title('Relação entre Gols Marcados e Sofridos')\n",
    "plt.show()"
   ]
  },
  {
   "cell_type": "code",
   "execution_count": null,
   "metadata": {
    "vscode": {
     "languageId": "plaintext"
    }
   },
   "outputs": [],
   "source": [
    "# Plotly\n",
    "fig = px.scatter(gols, x='gols_1', y='gols_2', title='Relação entre Gols Marcados e Sofridos')\n",
    "fig.show()"
   ]
  },
  {
   "cell_type": "markdown",
   "metadata": {},
   "source": [
    "#### Q4.\n",
    "\n",
    "Apresente um gráfico de barras com o top 10 países que mais participaram de copas do mundo, onde no eixo x devem estar o nome dos países e no eixo y a contagem de participações. Você deve separar a contagem de participações em copas femininas e masculinas, empilhando as barras de cada informação.\n",
    "\n",
    "No exemplo de barras empilhadas da galeria do matplotlib, imagine que a parte azul são as participações do país em copas masculinas, e em laranja as participações femininas:\n",
    "* https://matplotlib.org/stable/gallery/lines_bars_and_markers/bar_stacked.html\n",
    "\n",
    "Você deve implementar essa visualização nas três bibliotecas que vimos:\n",
    "* Matplotlib\n",
    "* Seaborn\n",
    "* Plotly\n",
    "\n",
    "Garanta que o gráfico tenha pelo menos os atributos:\n",
    "* título\n",
    "* rótulos de dimensão.\n",
    "* legenda"
   ]
  },
  {
   "cell_type": "code",
   "execution_count": null,
   "metadata": {
    "vscode": {
     "languageId": "plaintext"
    }
   },
   "outputs": [],
   "source": [
    "# João Victor de Jesus Augusto\n",
    "participacao_paises.head(10).plot(kind='bar', stacked=True)\n",
    "plt.title('Top 10 Países com Mais Participações')\n",
    "plt.xlabel('País')\n",
    "plt.ylabel('Número de Participações')\n",
    "plt.legend(['Feminino', 'Masculino'])\n",
    "plt.show()"
   ]
  },
  {
   "cell_type": "code",
   "execution_count": null,
   "metadata": {
    "vscode": {
     "languageId": "plaintext"
    }
   },
   "outputs": [],
   "source": [
    "#João Victor de Jesus Augusto\n",
    "sns.barplot(x=participacao_paises.head(10).index, y=participacao_paises.head(10)['Feminina'], label='Feminino')\n",
    "sns.barplot(x=participacao_paises.head(10).index, y=participacao_paises.head(10)['Masculina'], bottom=participacao_paises.head(10)['Feminina'], label='Masculino')\n",
    "plt.title('Top 10 Países com Mais Participações')\n",
    "plt.xlabel('País')\n",
    "plt.ylabel('Número de Participações')\n",
    "plt.legend()\n",
    "plt.xticks(rotation=45)\n",
    "plt.show()"
   ]
  },
  {
   "cell_type": "code",
   "execution_count": null,
   "metadata": {
    "vscode": {
     "languageId": "plaintext"
    }
   },
   "outputs": [],
   "source": [
    "#João Victor de Jesus Augusto\n",
    "fig = px.bar(participacao_paises.head(10).reset_index(), x='país', y=['Feminina', 'Masculina'], barmode='stack', title='Top 10 Países com Mais Participações')\n",
    "fig.show()"
   ]
  },
  {
   "cell_type": "markdown",
   "metadata": {},
   "source": [
    "#### Q5.\n",
    "\n",
    "Vamos fazer um compilado com as estatísticas históricas de copas do mundo!\n",
    "\n",
    "Com a biblioteca de sua preferência você deve criar 4 subplots organizados em um grid de 2 linhas e 2 colunas. Eles devem conter os seguintes gráficos:\n",
    "* Linha 1, coluna 1: Gráfico de barras com a quantidade de jogos que aconteceram por ano\n",
    "* Linha 1, coluna 2: Gráfico de área (referências a seguir) com o total de gols por ano, separando as informações de `gols_1` e `gols_2` para distinguir gols em casa e do time visitante.\n",
    "* Linha 2, coluna 1: Gráfico de área com o total de cartões por ano, separando as informações de cartões amarelos e cartões vermelhos, mas agregando cartões do time 1 ou time 2. Ou seja, uma área com `cartao_amarelo_1 + cartao_amarelo_2` e outra área com `cartao_vermelho_1 + cartao_vermelho_2`.\n",
    "* Linha 2, coluna 2: Gráfico de barras com o total de gols contra por ano, somando `gols_contra_1` e `gols_contra_2`.\n",
    "\n",
    "Referências sobre gráfico de área\n",
    "* Matplotlib: https://matplotlib.org/stable/gallery/lines_bars_and_markers/stackplot_demo.html#sphx-glr-gallery-lines-bars-and-markers-stackplot-demo-py\n",
    "* Pandas + Matplotlib: https://pandas.pydata.org/docs/reference/api/pandas.DataFrame.plot.area.html\n",
    "* Seaborn: https://seaborn.pydata.org/generated/seaborn.objects.Area.html\n",
    "* Plotly: https://plotly.com/python/filled-area-plots/"
   ]
  },
  {
   "cell_type": "code",
   "execution_count": null,
   "metadata": {
    "vscode": {
     "languageId": "plaintext"
    }
   },
   "outputs": [],
   "source": [
    "# João Victor de Jesus Augusto \n",
    "import pandas as pd\n",
    "import matplotlib.pyplot as plt\n",
    "\n",
    "# Assumindo que o DataFrame está carregado em uma variável chamada 'wc'\n",
    "# ... (seu código para carregar o DataFrame)\n",
    "\n",
    "# Criando um DataFrame agrupado por ano para facilitar os cálculos\n",
    "wc_ano = wc.groupby('ano').agg({\n",
    "    'time_1': 'count',  # Contando o número de jogos por ano\n",
    "    'gols_1': 'sum',\n",
    "    'gols_2': 'sum',\n",
    "    'cartao_amarelo_1': 'sum',\n",
    "    'cartao_amarelo_2': 'sum',\n",
    "    'cartao_vermelho_1': 'sum',\n",
    "    'cartao_vermelho_2': 'sum',\n",
    "    'gols_1_contra': 'sum',\n",
    "    'gols_2_contra': 'sum'\n",
    "}) \n",
    "fig, axs = plt.subplots(2, 2, figsize=(12, 8))\n",
    "\n",
    "# Gráfico de barras com a quantidade de jogos por ano\n",
    "axs[0, 0].bar(wc_ano.index, wc_ano['time_1'])\n",
    "axs[0, 0].set_title('Número de Jogos por Ano')\n",
    "axs[0, 0].set_xlabel('Ano')\n",
    "axs[0, 0].set_ylabel('Número de Jogos')\n",
    "\n",
    "# Gráfico de área com o total de gols por ano\n",
    "axs[0, 1].stackplot(wc_ano.index, wc_ano['gols_1'], wc_ano['gols_2'], labels=['Gols em Casa', 'Gols Fora'])\n",
    "axs[0, 1].set_title('Total de Gols por Ano')\n",
    "axs[0, 1].set_xlabel('Ano')\n",
    "axs[0, 1].set_ylabel('Número de Gols')\n",
    "axs[0, 1].legend(loc='upper left')\n",
    "\n",
    "# Gráfico de área com o total de cartões por ano\n",
    "axs[1, 0].stackplot(wc_ano.index, \n",
    "                   wc_ano['cartao_amarelo_1'] + wc_ano['cartao_amarelo_2'], \n",
    "                   wc_ano['cartao_vermelho_1'] + wc_ano['cartao_vermelho_2'], \n",
    "                   labels=['Cartões Amarelos', 'Cartões Vermelhos'])\n",
    "axs[1, 0].set_title('Total de Cartões por Ano')\n",
    "axs[1, 0].set_xlabel('Ano')\n",
    "axs[1, 0].set_ylabel('Número de Cartões')\n",
    "axs[1, 0].legend(loc='upper left')\n",
    "\n",
    "# Gráfico de barras com o total de gols contra por ano\n",
    "axs[1, 1].bar(wc_ano.index, wc_ano['gols_1_contra'] + wc_ano['gols_2_contra'])\n",
    "axs[1, 1].set_title('Total de Gols Contra por Ano')\n",
    "axs[1, 1].set_xlabel('Ano')\n",
    "axs[1, 1].set_ylabel('Número de Gols Contra')\n",
    "\n",
    "plt.tight_layout()\n",
    "plt.show()"
   ]
  }
 ],
 "metadata": {
  "language_info": {
   "name": "python"
  }
 },
 "nbformat": 4,
 "nbformat_minor": 2
}
